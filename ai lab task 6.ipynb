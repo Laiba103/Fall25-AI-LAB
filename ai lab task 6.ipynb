{
 "cells": [
  {
   "cell_type": "code",
   "execution_count": 1,
   "id": "192a3b84",
   "metadata": {},
   "outputs": [
    {
     "name": "stdout",
     "output_type": "stream",
     "text": [
      "Visiting: A\n",
      "Visiting: B\n",
      "Visiting: C\n",
      "Visiting: D\n",
      "Visiting: E\n",
      "Visiting: F\n",
      "Visiting: G\n",
      "Visiting: H\n",
      "Visiting: I\n",
      "Visiting: K\n",
      "Visiting: L\n",
      "Visiting: M\n",
      "Goal not found.\n"
     ]
    }
   ],
   "source": [
    "graph = {\n",
    "    'A': ['B', 'C'],\n",
    "    'B': ['D', 'E'],\n",
    "    'C': ['F'],\n",
    "    'D': ['G', 'H'],\n",
    "    'E': [],\n",
    "    'F': ['I', 'K'],\n",
    "    'G': [],\n",
    "    'H': ['L'],\n",
    "    'I': [],\n",
    "    'K': ['M'],\n",
    "    'L': [],\n",
    "    'M': []\n",
    "}\n",
    "\n",
    "def bfs(start, goal):\n",
    "    visited = []\n",
    "    to_visit = [start]\n",
    "\n",
    "    while to_visit:\n",
    "        node = to_visit[0]\n",
    "        to_visit = to_visit[1:]\n",
    "\n",
    "        print(\"Visiting:\", node)\n",
    "        if node == goal:\n",
    "            print(\"Goal Found!\")\n",
    "            return\n",
    "\n",
    "        for child in graph[node]:\n",
    "            if child not in visited and child not in to_visit:\n",
    "                to_visit.append(child)\n",
    "\n",
    "        visited.append(node)\n",
    "\n",
    "    print(\"Goal not found.\")\n",
    "\n",
    "\n",
    "start = 'A'\n",
    "goal = input(\"Enter goal node: \")\n",
    "bfs(start, goal)\n"
   ]
  },
  {
   "cell_type": "code",
   "execution_count": 2,
   "id": "bf5b8119",
   "metadata": {},
   "outputs": [
    {
     "name": "stdout",
     "output_type": "stream",
     "text": [
      "Visiting: A\n",
      "Visiting: B\n",
      "Goal Found!\n"
     ]
    }
   ],
   "source": [
    "from collections import deque\n",
    "\n",
    "graph = {\n",
    "    'A': ['B', 'C'],\n",
    "    'B': ['D', 'E'],\n",
    "    'C': ['F'],\n",
    "    'D': ['G', 'H'],\n",
    "    'E': [],\n",
    "    'F': ['I', 'K'],\n",
    "    'G': [],\n",
    "    'H': ['L'],\n",
    "    'I': [],\n",
    "    'K': ['M'],\n",
    "    'L': [],\n",
    "    'M': []\n",
    "}\n",
    "\n",
    "def bfs(start, goal):\n",
    "    visited = []\n",
    "    q = deque([start])\n",
    "\n",
    "    while q:\n",
    "        node = q.popleft()\n",
    "        print(\"Visiting:\", node)\n",
    "\n",
    "        if node == goal:\n",
    "            print(\"Goal Found!\")\n",
    "            return\n",
    "\n",
    "        for child in graph[node]:\n",
    "            if child not in visited:\n",
    "                q.append(child)\n",
    "\n",
    "        visited.append(node)\n",
    "\n",
    "    print(\"Goal not found.\")\n",
    "\n",
    "\n",
    "start = 'A'\n",
    "goal = input(\"Enter goal node: \")\n",
    "bfs(start, goal)\n"
   ]
  }
 ],
 "metadata": {
  "kernelspec": {
   "display_name": "base",
   "language": "python",
   "name": "python3"
  },
  "language_info": {
   "codemirror_mode": {
    "name": "ipython",
    "version": 3
   },
   "file_extension": ".py",
   "mimetype": "text/x-python",
   "name": "python",
   "nbconvert_exporter": "python",
   "pygments_lexer": "ipython3",
   "version": "3.12.7"
  }
 },
 "nbformat": 4,
 "nbformat_minor": 5
}
