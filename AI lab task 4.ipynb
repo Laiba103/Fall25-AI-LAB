{
 "cells": [
  {
   "cell_type": "code",
   "execution_count": 1,
   "id": "9a1cdf12",
   "metadata": {},
   "outputs": [
    {
     "name": "stdout",
     "output_type": "stream",
     "text": [
      "True\n"
     ]
    }
   ],
   "source": [
    "\n",
    "def is_luhn_valid(number_str):\n",
    "    \n",
    "    digits = [int(ch) for ch in number_str if ch.isdigit()]\n",
    "    if not digits:\n",
    "        return False\n",
    "\n",
    "    check = digits.pop()            \n",
    "    digits.reverse()               \n",
    "\n",
    "    total = 0\n",
    "    for i, d in enumerate(digits):\n",
    "        if i % 2 == 0:              \n",
    "            d = d * 2\n",
    "            if d > 9:\n",
    "                d -= 9\n",
    "        total += d\n",
    "\n",
    "    total += check\n",
    "    return total % 10 == 0\n",
    "\n",
    "num = \"5893804115457289\"\n",
    "print(is_luhn_valid(num))  \n"
   ]
  },
  {
   "cell_type": "code",
   "execution_count": 2,
   "id": "bdb4d39a",
   "metadata": {},
   "outputs": [
    {
     "name": "stdout",
     "output_type": "stream",
     "text": [
      "Hello world Hows it going\n"
     ]
    }
   ],
   "source": [
    "\n",
    "\n",
    "def remove_punctuation(s):\n",
    "    punctuations = \".,!?;:'\\\"-()[]{}<>@#$%^&*_+=/\\\\|~`\"\n",
    "    result = \"\"\n",
    "    for ch in s:\n",
    "        if ch not in punctuations:\n",
    "            result += ch\n",
    "    return result\n",
    "\n",
    "\n",
    "txt = \"Hello, world! How's it going?\"\n",
    "print(remove_punctuation(txt))   \n"
   ]
  },
  {
   "cell_type": "code",
   "execution_count": 4,
   "id": "6bb4a7f2",
   "metadata": {},
   "outputs": [
    {
     "name": "stdout",
     "output_type": "stream",
     "text": [
      "Do do Kar kar Maaf maaf\n"
     ]
    }
   ],
   "source": [
    "\n",
    "\n",
    "def sort_sentence_alpha(s):\n",
    "    words = s.split()                   \n",
    "\n",
    "    words_sorted = sorted(words, key=lambda w: w.lower())\n",
    "    return ' '.join(words_sorted)\n",
    "\n",
    "\n",
    "sentence = \"Maaf maaf Kar kar Do do\"\n",
    "print(sort_sentence_alpha(sentence))  \n"
   ]
  }
 ],
 "metadata": {
  "kernelspec": {
   "display_name": "Python 3",
   "language": "python",
   "name": "python3"
  },
  "language_info": {
   "codemirror_mode": {
    "name": "ipython",
    "version": 3
   },
   "file_extension": ".py",
   "mimetype": "text/x-python",
   "name": "python",
   "nbconvert_exporter": "python",
   "pygments_lexer": "ipython3",
   "version": "3.12.4"
  }
 },
 "nbformat": 4,
 "nbformat_minor": 5
}
