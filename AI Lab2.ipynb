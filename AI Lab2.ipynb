{
 "cells": [
  {
   "cell_type": "code",
   "execution_count": null,
   "id": "2bdb9fc5",
   "metadata": {},
   "outputs": [
    {
     "name": "stdout",
     "output_type": "stream",
     "text": [
      "1\n",
      "2\n",
      "fizz\n",
      "4\n",
      "buzz\n",
      "fizz\n",
      "7\n",
      "8\n",
      "fizz\n",
      "buzz\n",
      "11\n",
      "fizz\n",
      "13\n",
      "14\n",
      "fizzbuzz\n"
     ]
    }
   ],
   "source": [
    "   \n",
    "for number in range(1,16):\n",
    "    if number % 3 ==0 and number % 5 ==0:\n",
    "        print(\"fizzbuzz\")\n",
    "    elif number % 3 ==0:\n",
    "        print(\"fizz\")\n",
    "    elif number %5 ==0:\n",
    "        print(\"buzz\")\n",
    "    else:\n",
    "        print(number)\n"
   ]
  },
  {
   "cell_type": "markdown",
   "id": "735dc52c",
   "metadata": {},
   "source": [
    "Name : Habiba Rajil\n",
    "Roll no: 040\n",
    "Section : BSDS - 3A"
   ]
  },
  {
   "cell_type": "code",
   "execution_count": null,
   "id": "c5d40421",
   "metadata": {},
   "outputs": [],
   "source": [
    "movies = [\n",
    "    (\"Eternal Sunshine of the Spotless Mind\", 20000000),\n",
    "    (\"Memento\", 9000000),\n",
    "    (\"Requiem for a Dream\", 4500000),\n",
    "    (\"Pirates of the Caribbean: On Stranger Tides\", 379000000),\n",
    "    (\"Avengers: Age of Ultron\", 365000000),\n",
    "    (\"Avengers: Endgame\", 356000000),\n",
    "    (\"Incredibles 2\", 200000000)\n",
    "]\n",
    "n = int(input(\"How many movies to add? \"))\n",
    "for i in range(n):\n",
    "    name = input(\"Enter movie name: \")\n",
    "    budget = int(input(\"Enter movie budget: \"))\n",
    "    movies.append((name, budget))\n",
    "\n",
    "\n",
    "total = 0\n",
    "for m in movies:\n",
    "    total += m[1]\n",
    "avg = total / len(movies)\n",
    "print(\"Average budget:\", avg)\n",
    "\n",
    "\n",
    "count = 0\n",
    "for m in movies:\n",
    "    if m[1] > avg:\n",
    "        print(m[0], \"is above average by\", m[1] - avg)\n",
    "        count += 1\n",
    "\n",
    "print(\"Total movies above average:\", count)\n",
    "\n",
    "\n",
    "\n",
    "\n",
    "\n",
    "\n",
    "\n",
    "\n",
    "\n"
   ]
  }
 ],
 "metadata": {
  "kernelspec": {
   "display_name": "base",
   "language": "python",
   "name": "python3"
  },
  "language_info": {
   "codemirror_mode": {
    "name": "ipython",
    "version": 3
   },
   "file_extension": ".py",
   "mimetype": "text/x-python",
   "name": "python",
   "nbconvert_exporter": "python",
   "pygments_lexer": "ipython3",
   "version": "3.12.7"
  }
 },
 "nbformat": 4,
 "nbformat_minor": 5
}
