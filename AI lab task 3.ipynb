{
 "cells": [
  {
   "cell_type": "markdown",
   "id": "d47e3e16",
   "metadata": {},
   "source": [
    "### Name : Laiba Adnan\n",
    "### Roll no : 004\n",
    "### Section : BSDS - 3A\n",
    "\n"
   ]
  },
  {
   "cell_type": "code",
   "execution_count": 1,
   "id": "32ac6816",
   "metadata": {},
   "outputs": [
    {
     "name": "stdout",
     "output_type": "stream",
     "text": [
      "=== Simple Reflex Agent ===\n",
      "Living Room: 18°C -> Turn on heater\n",
      "Bedroom: 22°C -> Turn off heater\n",
      "Kitchen: 20°C -> Turn on heater\n",
      "Bathroom: 24°C -> Turn off heater\n",
      "\n",
      "=== Model-Based Reflex Agent (two cycles) ===\n",
      "Living Room: 18°C -> Turn on heater\n",
      "Bedroom: 22°C -> Turn off heater\n",
      "Kitchen: 20°C -> Turn on heater\n",
      "Bathroom: 24°C -> Turn off heater\n",
      "-- second cycle (same temps) --\n",
      "Living Room: 18°C -> Turn on heater\n",
      "Bedroom: 22°C -> Turn off heater\n",
      "Kitchen: 20°C -> Turn on heater\n",
      "Bathroom: 24°C -> Turn off heater\n"
     ]
    }
   ],
   "source": [
    "from typing import Dict\n",
    "\n",
    "class SimpleReflexAgent:\n",
    "    def __init__(self, desired_temperature: int):\n",
    "        self.desired_temperature = desired_temperature\n",
    "\n",
    "    def act(self, current_temperature: int) -> str:\n",
    "        \n",
    "\n",
    "        \n",
    "        if current_temperature < self.desired_temperature:\n",
    "            return \"Turn on heater\"\n",
    "        else:\n",
    "            return \"Turn off heater\"\n",
    "\n",
    "class ModelBasedReflexAgent:\n",
    "    def __init__(self, desired_temperature: int):\n",
    "        self.desired_temperature = desired_temperature\n",
    "        self.previous_action = None  \n",
    "\n",
    "    def act(self, current_temperature: int) -> str:\n",
    "        \"\"\"\n",
    "        Decide action based on current temperature and previous action.\n",
    "        Avoid repeating the same command if it's already in effect.\n",
    "        \"\"\"\n",
    "        if current_temperature < self.desired_temperature:\n",
    "            action = \"Turn on heater\"\n",
    "        else:\n",
    "            action = \"Turn off heater\"\n",
    "\n",
    "    \n",
    "        if action == self.previous_action:\n",
    "            result = \"No change (heater already {})\".format(\"on\" if \"on\" in action else \"off\")\n",
    "        else:\n",
    "            result = action\n",
    "            self.previous_action = action\n",
    "\n",
    "        return result\n",
    "\n",
    "def simulate(rooms: Dict[str, int], agent):\n",
    "    for room, temp in rooms.items():\n",
    "        print(f\"{room}: {temp}°C -> {agent.act(temp)}\")\n",
    "\n",
    "if __name__ == \"__main__\":\n",
    "    rooms = {\n",
    "        \"Living Room\": 18,\n",
    "        \"Bedroom\": 22,\n",
    "        \"Kitchen\": 20,\n",
    "        \"Bathroom\": 24\n",
    "    }\n",
    "\n",
    "    print(\"=== Simple Reflex Agent ===\")\n",
    "    simple_agent = SimpleReflexAgent(desired_temperature=22)\n",
    "    simulate(rooms, simple_agent)\n",
    "\n",
    "    print(\"\\n=== Model-Based Reflex Agent (two cycles) ===\")\n",
    "    model_agent = ModelBasedReflexAgent(desired_temperature=22)\n",
    "    \n",
    "    simulate(rooms, model_agent)\n",
    "    print(\"-- second cycle (same temps) --\")\n",
    "    simulate(rooms, model_agent)\n"
   ]
  }
 ],
 "metadata": {
  "kernelspec": {
   "display_name": "base",
   "language": "python",
   "name": "python3"
  },
  "language_info": {
   "codemirror_mode": {
    "name": "ipython",
    "version": 3
   },
   "file_extension": ".py",
   "mimetype": "text/x-python",
   "name": "python",
   "nbconvert_exporter": "python",
   "pygments_lexer": "ipython3",
   "version": "3.12.7"
  }
 },
 "nbformat": 4,
 "nbformat_minor": 5
}
