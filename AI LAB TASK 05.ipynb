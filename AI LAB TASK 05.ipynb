{
 "cells": [
  {
   "cell_type": "markdown",
   "id": "6f9c7027",
   "metadata": {},
   "source": [
    "Laiba Adnan\n",
    "\n",
    "SU92-BSDSM-F24-004"
   ]
  },
  {
   "cell_type": "markdown",
   "id": "dada1077",
   "metadata": {},
   "source": [
    "TASK 01:"
   ]
  },
  {
   "cell_type": "markdown",
   "id": "c8608401",
   "metadata": {},
   "source": [
    "DFS using stack:"
   ]
  },
  {
   "cell_type": "code",
   "execution_count": 1,
   "id": "69b47855",
   "metadata": {},
   "outputs": [
    {
     "name": "stdout",
     "output_type": "stream",
     "text": [
      "A\n",
      "B\n",
      "D\n",
      "E\n",
      "C\n"
     ]
    }
   ],
   "source": [
    "graph = {\n",
    "    'A': ['B', 'C'],\n",
    "    'B': ['D', 'E'],\n",
    "    'C': [],\n",
    "    'D': [],\n",
    "    'E': []\n",
    "}\n",
    "\n",
    "def dfs_with_stack(graph, start_node):\n",
    "    visited = set()\n",
    "    stack = [start_node]\n",
    "\n",
    "    while stack:\n",
    "        current_node = stack.pop()\n",
    "        if current_node not in visited:\n",
    "            print(current_node)\n",
    "            visited.add(current_node)\n",
    "            for neighbor in reversed(graph[current_node]):\n",
    "                if neighbor not in visited:\n",
    "                    stack.append(neighbor)\n",
    "\n",
    "dfs_with_stack(graph, 'A')\n"
   ]
  },
  {
   "cell_type": "markdown",
   "id": "73a6e0c8",
   "metadata": {},
   "source": [
    "TASK 02"
   ]
  },
  {
   "cell_type": "markdown",
   "id": "a46403f9",
   "metadata": {},
   "source": [
    " Q: Research about Inorder, Preorder, Postorder?"
   ]
  },
  {
   "cell_type": "markdown",
   "id": "6be39e5b",
   "metadata": {},
   "source": [
    "ANSWER:"
   ]
  },
  {
   "cell_type": "markdown",
   "id": "6fcea493",
   "metadata": {},
   "source": [
    "Inorder, Preorder, and Postorder are tree traversal methods based on Depth First Search (DFS). They define the order in which nodes are visited:\n",
    "\n",
    "      Preorder: Root → Left → Right\n",
    "\n",
    "      Inorder: Left → Root → Right\n",
    "\n",
    "      Postorder: Left → Right → Root\n",
    "\n",
    "These methods are used to visit all nodes in a binary tree and are part of DFS traversal.\n",
    "No implementation was required — only research."
   ]
  }
 ],
 "metadata": {
  "kernelspec": {
   "display_name": "Python 3",
   "language": "python",
   "name": "python3"
  },
  "language_info": {
   "codemirror_mode": {
    "name": "ipython",
    "version": 3
   },
   "file_extension": ".py",
   "mimetype": "text/x-python",
   "name": "python",
   "nbconvert_exporter": "python",
   "pygments_lexer": "ipython3",
   "version": "3.13.1"
  }
 },
 "nbformat": 4,
 "nbformat_minor": 5
}
