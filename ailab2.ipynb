{
 "cells": [
  {
   "cell_type": "markdown",
   "id": "c2eb0434",
   "metadata": {},
   "source": [
    "#### Name: Laiba Adnan\n",
    "#### Class: Bsds 3A\n",
    "#### Roll no: 004"
   ]
  },
  {
   "cell_type": "markdown",
   "id": "33e7f1b1",
   "metadata": {},
   "source": [
    "#### Mini Project 1"
   ]
  },
  {
   "cell_type": "code",
   "execution_count": 1,
   "id": "61451d97",
   "metadata": {},
   "outputs": [
    {
     "name": "stdout",
     "output_type": "stream",
     "text": [
      "1\n",
      "2\n",
      "Fizz\n",
      "4\n",
      "Buzz\n",
      "Fizz\n",
      "7\n",
      "8\n",
      "Fizz\n",
      "Buzz\n",
      "11\n",
      "Fizz\n",
      "13\n",
      "14\n",
      "Fizz Buzz\n",
      "16\n",
      "17\n",
      "Fizz\n",
      "19\n",
      "Buzz\n",
      "Fizz\n",
      "22\n",
      "23\n",
      "Fizz\n",
      "Buzz\n",
      "26\n",
      "Fizz\n",
      "28\n",
      "29\n",
      "Fizz Buzz\n",
      "31\n",
      "32\n",
      "Fizz\n",
      "34\n",
      "Buzz\n",
      "Fizz\n",
      "37\n",
      "38\n",
      "Fizz\n",
      "Buzz\n",
      "41\n",
      "Fizz\n",
      "43\n",
      "44\n",
      "Fizz Buzz\n",
      "46\n",
      "47\n",
      "Fizz\n",
      "49\n",
      "Buzz\n",
      "Fizz\n",
      "52\n",
      "53\n",
      "Fizz\n",
      "Buzz\n",
      "56\n",
      "Fizz\n",
      "58\n",
      "59\n",
      "Fizz Buzz\n",
      "61\n",
      "62\n",
      "Fizz\n",
      "64\n",
      "Buzz\n",
      "Fizz\n",
      "67\n",
      "68\n",
      "Fizz\n",
      "Buzz\n",
      "71\n",
      "Fizz\n",
      "73\n",
      "74\n",
      "Fizz Buzz\n",
      "76\n",
      "77\n",
      "Fizz\n",
      "79\n",
      "Buzz\n",
      "Fizz\n",
      "82\n",
      "83\n",
      "Fizz\n",
      "Buzz\n",
      "86\n",
      "Fizz\n",
      "88\n",
      "89\n",
      "Fizz Buzz\n",
      "91\n",
      "92\n",
      "Fizz\n",
      "94\n",
      "Buzz\n",
      "Fizz\n",
      "97\n",
      "98\n",
      "Fizz\n",
      "Buzz\n"
     ]
    }
   ],
   "source": [
    "\n",
    "for number in range(1, 101):   \n",
    "    if number % 3 == 0 and number % 5 == 0:\n",
    "        print(\"Fizz Buzz\")\n",
    "    elif number % 3 == 0:\n",
    "        print(\"Fizz\")\n",
    "    elif number % 5 == 0:\n",
    "        print(\"Buzz\")\n",
    "    else:\n",
    "        print(number)\n"
   ]
  },
  {
   "cell_type": "markdown",
   "id": "e7711f1a",
   "metadata": {},
   "source": [
    "### Mini Project 2"
   ]
  },
  {
   "cell_type": "code",
   "execution_count": 2,
   "id": "a0067394",
   "metadata": {},
   "outputs": [
    {
     "name": "stdout",
     "output_type": "stream",
     "text": [
      "Average movie budget is: 190500000.0\n",
      "Pirates of the Caribbean: On Stranger Tides has a higher budget by 188500000.0\n",
      "Avengers: Age of Ultron has a higher budget by 174500000.0\n",
      "Avengers: Endgame has a higher budget by 165500000.0\n",
      "Incredibles 2 has a higher budget by 9500000.0\n",
      "Number of movies with above average budget: 4\n"
     ]
    }
   ],
   "source": [
    "movies = [\n",
    "    (\"Eternal Sunshine of the Spotless Mind\", 20000000),\n",
    "    (\"Memento\", 9000000),\n",
    "    (\"Requiem for a Dream\", 4500000),\n",
    "    (\"Pirates of the Caribbean: On Stranger Tides\", 379000000),\n",
    "    (\"Avengers: Age of Ultron\", 365000000),\n",
    "    (\"Avengers: Endgame\", 356000000),\n",
    "    (\"Incredibles 2\", 200000000)\n",
    "]\n",
    "\n",
    "total_budget = 0\n",
    "for movie in movies:\n",
    "    total_budget += movie[1]   \n",
    "\n",
    "average_budget = total_budget / len(movies)\n",
    "\n",
    "print(\"Average movie budget is:\", average_budget)\n",
    "count_above = 0\n",
    "for movie in movies:\n",
    "    name, budget = movie\n",
    "    if budget > average_budget:\n",
    "        count_above += 1\n",
    "        print(f\"{name} has a higher budget by {budget - average_budget}\")\n",
    "\n",
    "print(\"Number of movies with above average budget:\", count_above)\n"
   ]
  }
 ],
 "metadata": {
  "kernelspec": {
   "display_name": "base",
   "language": "python",
   "name": "python3"
  },
  "language_info": {
   "codemirror_mode": {
    "name": "ipython",
    "version": 3
   },
   "file_extension": ".py",
   "mimetype": "text/x-python",
   "name": "python",
   "nbconvert_exporter": "python",
   "pygments_lexer": "ipython3",
   "version": "3.12.7"
  }
 },
 "nbformat": 4,
 "nbformat_minor": 5
}
