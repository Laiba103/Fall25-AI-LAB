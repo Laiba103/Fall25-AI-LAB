{
 "cells": [
  {
   "cell_type": "code",
   "execution_count": 2,
   "id": "af7d3fc2",
   "metadata": {},
   "outputs": [
    {
     "name": "stdout",
     "output_type": "stream",
     "text": [
      "The optimal value is: 12\n"
     ]
    }
   ],
   "source": [
    "def minimax(depth, nodeIndex, isMax, scores, h):\n",
    "    if depth == h:\n",
    "        return scores[nodeIndex]\n",
    "    \n",
    "    if isMax:\n",
    "        return max(\n",
    "            minimax(depth + 1, nodeIndex * 2, False, scores, h),\n",
    "            minimax(depth + 1, nodeIndex * 2 + 1, False, scores, h)\n",
    "        )\n",
    "    else:\n",
    "        return min(\n",
    "            minimax(depth + 1, nodeIndex * 2, True, scores, h),\n",
    "            minimax(depth + 1, nodeIndex * 2 + 1, True, scores, h)\n",
    "        )\n",
    "\n",
    "scores = [3, 5, 2, 9, 12, 5, 23, 23]\n",
    "h = 3\n",
    "print(\"The optimal value is:\", minimax(0, 0, True, scores, h))\n"
   ]
  }
 ],
 "metadata": {
  "kernelspec": {
   "display_name": "Python 3",
   "language": "python",
   "name": "python3"
  },
  "language_info": {
   "codemirror_mode": {
    "name": "ipython",
    "version": 3
   },
   "file_extension": ".py",
   "mimetype": "text/x-python",
   "name": "python",
   "nbconvert_exporter": "python",
   "pygments_lexer": "ipython3",
   "version": "3.13.1"
  }
 },
 "nbformat": 4,
 "nbformat_minor": 5
}
